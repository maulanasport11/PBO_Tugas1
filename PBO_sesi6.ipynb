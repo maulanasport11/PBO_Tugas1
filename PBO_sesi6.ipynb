{
  "nbformat": 4,
  "nbformat_minor": 0,
  "metadata": {
    "colab": {
      "provenance": [],
      "authorship_tag": "ABX9TyNf3+Ryh79wGZfhDB0OeCoy",
      "include_colab_link": true
    },
    "kernelspec": {
      "name": "python3",
      "display_name": "Python 3"
    },
    "language_info": {
      "name": "python"
    }
  },
  "cells": [
    {
      "cell_type": "markdown",
      "metadata": {
        "id": "view-in-github",
        "colab_type": "text"
      },
      "source": [
        "<a href=\"https://colab.research.google.com/github/maulanasport11/PBO_Tugas1/blob/main/PBO_sesi6.ipynb\" target=\"_parent\"><img src=\"https://colab.research.google.com/assets/colab-badge.svg\" alt=\"Open In Colab\"/></a>"
      ]
    },
    {
      "cell_type": "code",
      "execution_count": null,
      "metadata": {
        "id": "aAcZ0kGEA_IP"
      },
      "outputs": [],
      "source": [
        "stup1 = ('bahasa arab', 'bahasa aceh', 2019, 2020)\n",
        "stup2 = (1, 2, 3, 4, 5, 6, 7, 8)\n",
        "stup3 = \"e\", \"f\", \"g\", \"h\"\n",
        "\n",
        "\n",
        "print (\"stup1[1]: \", stup1[1])\n",
        "print (\"stup2[1:5]: \", stup2[1:5])\n",
        ""
      ]
    },
    {
      "cell_type": "code",
      "source": [
        "ach = (\"Mie Aceh\", 10000, 3.5, True, 'AyamPramugari', 88j)\n",
        "\n",
        "print(\"ach[0]:\", ach[0])\n",
        "\n",
        "print(\"ach[1]:\", ach[1])\n",
        "\n",
        "print(\"ach[2]:\", ach[2])\n",
        "\n",
        "print(\"ach[2:5]:\", ach[2:5])\n",
        "\n",
        "print(\"ach[:3]:\", ach[:3])\n",
        "\n",
        "print(\"ach[3:]:\", ach[3:])\n",
        "an\n",
        "print(\"ach[:]:\", ach[:])\n",
        "\n"
      ],
      "metadata": {
        "id": "wzdzouXKBBKw"
      },
      "execution_count": null,
      "outputs": []
    },
    {
      "cell_type": "code",
      "source": [
        "stup1 = (10, 5.78)\n",
        "stup2 = ('def', 'opq')\n",
        "\n",
        "stup3 = stup1 + stup2\n",
        "print (stup3)\n",
        "\n",
        "del stup3:\n",
        "print(\"setelah dihapus:\")"
      ],
      "metadata": {
        "id": "qy8njDAnBOBB"
      },
      "execution_count": null,
      "outputs": []
    }
  ]
}
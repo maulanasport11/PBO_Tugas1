{
  "nbformat": 4,
  "nbformat_minor": 0,
  "metadata": {
    "colab": {
      "provenance": [],
      "authorship_tag": "ABX9TyP/CVmJv6lUyv0j1FK+z8hc",
      "include_colab_link": true
    },
    "kernelspec": {
      "name": "python3",
      "display_name": "Python 3"
    },
    "language_info": {
      "name": "python"
    }
  },
  "cells": [
    {
      "cell_type": "markdown",
      "metadata": {
        "id": "view-in-github",
        "colab_type": "text"
      },
      "source": [
        "<a href=\"https://colab.research.google.com/github/maulanasport11/PBO_Tugas1/blob/main/PBO_sesi1.ipynb\" target=\"_parent\"><img src=\"https://colab.research.google.com/assets/colab-badge.svg\" alt=\"Open In Colab\"/></a>"
      ]
    },
    {
      "cell_type": "code",
      "execution_count": null,
      "metadata": {
        "id": "K_lNapWV8R11"
      },
      "outputs": [],
      "source": [
        "\n",
        "print(\"IMAM MAULANA\")\n",
        "print(\"Department of Information Technology\")\n",
        "print(\"UIN Ar-Raniry\")\n",
        "print(\"Jalan Blang Pidie-Meulaboh Aceh Barat Daya\")\n",
        "print(\"Banda Aceh 23111\")\n",
        "print(\"Indonesia\")\n",
        ""
      ]
    },
    {
      "cell_type": "code",
      "source": [
        "\n",
        "panjang = float(input(\"Masukkan ukuran panjang dalam satuan meter \"))\n",
        "lebar = float(input(\"Masukkan ukuran lebar dalam satuan meter \"))\n",
        "\n",
        "luas = panjang * lebar\n",
        "\n",
        "\n",
        "print(\"Luas dari kamar ini adalah\", luas, \"meter kuadrat\")\n"
      ],
      "metadata": {
        "id": "XNXXDCF986Q-"
      },
      "execution_count": null,
      "outputs": []
    },
    {
      "cell_type": "code",
      "source": [
        "\n",
        "n = int(input(\"Masukkan bilangan bulat positif:\"))\n",
        "\n",
        "\n",
        "sm = n * (n+1) / 2\n",
        "\n",
        "\n",
        "print(\"Jumlah pertama dari \", n, \"bilangan positif adalah\", sm)\n",
        ""
      ],
      "metadata": {
        "id": "fE8uugV989IH"
      },
      "execution_count": null,
      "outputs": []
    },
    {
      "cell_type": "code",
      "source": [
        "\n",
        "from math import log10\n",
        "\n",
        "\n",
        "x = int (input(\"Masukkan bilangan dari x:\"))\n",
        "y = int (input(\"Masukkan bilangan dari y:\"))\n",
        "\n",
        "print(x, \"+\", y, \"adalah\", x + y)\n",
        "print(x, \"-\", y, \"adalah\", x - y)\n",
        "print(x, \"*\", y, \"adalah\", x * y)\n",
        "print(x, \"/\", y, \"adalah\", x / y)\n",
        "print(x, \"%\", y, \"adalah\", x % y)\n",
        "\n",
        "print(\"Logaritma basis 10 dari\", x, \"adalah\", log10(x))\n",
        "print(x, \"^\", y, \"adalah\", x**y)\n"
      ],
      "metadata": {
        "id": "usTMlmbe9P3X"
      },
      "execution_count": null,
      "outputs": []
    }
  ]
}